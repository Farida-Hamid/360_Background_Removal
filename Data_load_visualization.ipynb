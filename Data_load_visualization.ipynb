{
 "cells": [
  {
   "cell_type": "markdown",
   "metadata": {},
   "source": [
    "## Load and visualize the data for the first building"
   ]
  },
  {
   "cell_type": "code",
   "execution_count": 2,
   "metadata": {},
   "outputs": [],
   "source": [
    "import numpy as np\n",
    "\n",
    "data_path_1 = '/Users/farida/Documents/360-bachground-removal/3DSceneGraph_medium/automated_graph/3DSceneGraph_Adairsville.npz'\n",
    "data = np.load(data_path_1, allow_pickle=True)['output'].item()"
   ]
  },
  {
   "cell_type": "code",
   "execution_count": 7,
   "metadata": {},
   "outputs": [
    {
     "name": "stdout",
     "output_type": "stream",
     "text": [
      "The number of elements for a building =  5\n",
      "The numer of elements for an object =  44\n",
      "The number of panoramic images =  68\n",
      "The dimentions of a panoramic image =  (1024, 2048)\n",
      "The class of a panoramic image =  (1024, 2048)\n"
     ]
    }
   ],
   "source": [
    "print('The number of elements for a building = ', len(data))\n",
    "print('The numer of elements for an object = ', len(data['object']))\n",
    "print('The number of panoramic images = ', len(data['panorama']))\n",
    "print('The dimentions of a panoramic image = ', data['panorama']['p000001']['object_instance'].shape)\n",
    "print('The class of a panoramic image = ', data['panorama']['p000001']['object_class'].shape)"
   ]
  },
  {
   "cell_type": "code",
   "execution_count": null,
   "metadata": {},
   "outputs": [],
   "source": []
  }
 ],
 "metadata": {
  "kernelspec": {
   "display_name": "cvnd",
   "language": "python",
   "name": "cvnd"
  },
  "language_info": {
   "codemirror_mode": {
    "name": "ipython",
    "version": 3
   },
   "file_extension": ".py",
   "mimetype": "text/x-python",
   "name": "python",
   "nbconvert_exporter": "python",
   "pygments_lexer": "ipython3",
   "version": "3.6.10"
  }
 },
 "nbformat": 4,
 "nbformat_minor": 4
}
